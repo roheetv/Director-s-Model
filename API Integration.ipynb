{
 "cells": [
  {
   "cell_type": "code",
   "execution_count": 1,
   "id": "f83409fc",
   "metadata": {},
   "outputs": [],
   "source": [
    "import pandas as pd\n",
    "from flask import Flask, request, jsonify\n",
    "import threading\n",
    "import requests\n",
    "import logging\n",
    "import os\n",
    "import json"
   ]
  },
  {
   "cell_type": "code",
   "execution_count": 2,
   "id": "e6728554",
   "metadata": {},
   "outputs": [],
   "source": [
    "os.environ['PROBE_COMPANY_BASE_URL'] = \"https://api.probe42.in/probe_pro_sandbox/companies\"\n",
    "os.environ['PROBE_LLP_BASE_URL'] = \"https://api.probe42.in/probe_pro_sandbox/llps\"\n",
    "os.environ['PROBE_API_KEY'] = \"1bIrZWuiQr51IfpvikwtK4WPM06ccagW871TqWLn\"\n",
    "os.environ['PROBE_BASE_URL'] = \"https://api.probe42.in/probe_pro_sandbox\"\n",
    "os.environ['PROBE_SEARCH_URL'] = \"https://api.probe42.in/probe_pro_sandbox/entities\"\n",
    "os.environ['PROBE_COMPANY_REPORT_URL'] = \"https://api.probe42.in/probe_reports_sandbox/companies\"\n",
    "os.environ['SCOREME_GST_GET_REPORT'] = \"https://sm-gst-sandbox.scoreme.in/gst/external/getgstreport\""
   ]
  },
  {
   "cell_type": "code",
   "execution_count": 3,
   "id": "4b5317bc",
   "metadata": {},
   "outputs": [],
   "source": [
    "bse_nse_df = pd.read_excel('BSE_NSE_directors.xlsx')\n",
    "defaulters_df = pd.read_excel('Defaulters_directors.xlsx')\n",
    "second_degree_df = pd.read_excel('2nd Degree Directors&Companies.xlsx')\n",
    "politically_exposed_df = pd.read_excel('POLITICALLY EXPOSED PERSONS.xlsx')"
   ]
  },
  {
   "cell_type": "code",
   "execution_count": 4,
   "id": "ed5ddba9",
   "metadata": {},
   "outputs": [],
   "source": [
    "bse_nse_directors = set()\n",
    "defaulters_directors = set()\n",
    "second_degree_defaulters = set()\n",
    "second_degree_relatives = set()\n",
    "politically_exposed_persons = set()\n",
    "politically_exposed_relatives = set()"
   ]
  },
  {
   "cell_type": "code",
   "execution_count": 5,
   "id": "6f95d790",
   "metadata": {},
   "outputs": [],
   "source": [
    "for col in bse_nse_df.columns[1:]:\n",
    "    bse_nse_directors.update(bse_nse_df[col].dropna().str.strip().str.lower())"
   ]
  },
  {
   "cell_type": "code",
   "execution_count": 6,
   "id": "cd390a35",
   "metadata": {},
   "outputs": [],
   "source": [
    "for col in defaulters_df.columns[1:]:\n",
    "    defaulters_directors.update(defaulters_df[col].dropna().str.strip().str.lower())"
   ]
  },
  {
   "cell_type": "code",
   "execution_count": 7,
   "id": "4d662cfc",
   "metadata": {},
   "outputs": [],
   "source": [
    "second_degree_defaulters.update(second_degree_df.iloc[:, 0].dropna().str.strip().str.lower())\n",
    "second_degree_relatives.update(second_degree_df.iloc[:, 1:].stack().dropna().str.strip().str.lower())"
   ]
  },
  {
   "cell_type": "code",
   "execution_count": 8,
   "id": "8f12c6fc",
   "metadata": {},
   "outputs": [],
   "source": [
    "politically_exposed_persons.update(politically_exposed_df.iloc[:, 0].dropna().str.strip().str.lower())\n",
    "politically_exposed_relatives.update(politically_exposed_df.iloc[:, 1:].stack().dropna().str.strip().str.lower())"
   ]
  },
  {
   "cell_type": "code",
   "execution_count": 9,
   "id": "122a51ce",
   "metadata": {},
   "outputs": [],
   "source": [
    "def score_director(name):\n",
    "    name = name.strip().lower()\n",
    "    score = 0\n",
    "    \n",
    "    if name in bse_nse_directors:\n",
    "        score += 10\n",
    "    if name in defaulters_directors:\n",
    "        score -= 10\n",
    "    if name in second_degree_relatives:\n",
    "        score -= 3\n",
    "    if name in second_degree_defaulters:\n",
    "        score -= 10\n",
    "    if name in politically_exposed_persons:\n",
    "        score -= 10\n",
    "    if name in politically_exposed_relatives:\n",
    "        score -= 10\n",
    "    \n",
    "    return score"
   ]
  },
  {
   "cell_type": "code",
   "execution_count": 10,
   "id": "0fdc2de8",
   "metadata": {},
   "outputs": [],
   "source": [
    "app = Flask(__name__)"
   ]
  },
  {
   "cell_type": "code",
   "execution_count": 11,
   "id": "a5fd1fc5",
   "metadata": {},
   "outputs": [],
   "source": [
    "logging.basicConfig(level=logging.DEBUG)\n",
    "\n",
    "def get_probe_by_name(search_company):\n",
    "    try:\n",
    "        if len(search_company) < 3:\n",
    "            return {\"error\": \"Search string must be at least 3 characters long\"}, 400\n",
    "\n",
    "        api_key = os.getenv(\"PROBE_API_KEY\")\n",
    "        headers = {\"x-api-version\": \"1.3\", \"x-api-key\": api_key}\n",
    "        filters = {\"nameStartsWith\": search_company}\n",
    "        params = {\"limit\": 25, \"filters\": json.dumps(filters)}\n",
    "        url = os.getenv(\"PROBE_SEARCH_URL\")\n",
    "        \n",
    "        response = requests.get(url, headers=headers, params=params)\n",
    "\n",
    "        response_data = response.json()\n",
    "        if response.status_code == 200:\n",
    "            return response_data, 200\n",
    "        else:\n",
    "            return {\"error\": f\"Failed to fetch company list, {response_data.get('message', '')}\"}, response.status_code\n",
    "\n",
    "    except Exception as e:\n",
    "        logging.error(f\"An error occurred while fetching company search result list: {e}\")\n",
    "        return {\"error\": str(e)}, 500\n",
    "\n",
    "@app.route('/score_company', methods=['POST'])\n",
    "def score_company():\n",
    "    data = request.get_json()\n",
    "    company_name = data.get('company_name')\n",
    "    \n",
    "    if not company_name:\n",
    "        logging.error(\"Company name is required\")\n",
    "        return jsonify({\"error\": \"Company name is required\"}), 400\n",
    "    \n",
    "    try:\n",
    "        # Fetching company details from Probe API\n",
    "        company_data, status_code = get_probe_by_name(company_name)\n",
    "        \n",
    "        if status_code != 200:\n",
    "            return jsonify(company_data), status_code\n",
    "        \n",
    "        # Getting the directors \n",
    "        directors = []\n",
    "        for entity in company_data.get('items', []):\n",
    "            directors.extend(entity.get('directors', []))\n",
    "        \n",
    "        scores = {}\n",
    "        for director in directors:\n",
    "            scores[director] = score_director(director)\n",
    "        \n",
    "        return jsonify(scores)\n",
    "    except requests.exceptions.RequestException as e:\n",
    "        logging.error(f\"Error fetching data from Probe API: {e}\")\n",
    "        return jsonify({\"error\": \"Failed to fetch data from Probe API\"}), 500\n",
    "    except Exception as e:\n",
    "        logging.error(f\"Unexpected error: {e}\")\n",
    "        return jsonify({\"error\": \"An unexpected error occurred\"}), 500"
   ]
  },
  {
   "cell_type": "code",
   "execution_count": 12,
   "id": "0f37ddc0",
   "metadata": {},
   "outputs": [],
   "source": [
    "def run_app():\n",
    "    app.run(port=5000)"
   ]
  },
  {
   "cell_type": "code",
   "execution_count": 13,
   "id": "27b87328",
   "metadata": {},
   "outputs": [
    {
     "name": "stdout",
     "output_type": "stream",
     "text": [
      " * Serving Flask app '__main__'\n",
      " * Debug mode: off\n"
     ]
    },
    {
     "name": "stderr",
     "output_type": "stream",
     "text": [
      "INFO:werkzeug:\u001b[31m\u001b[1mWARNING: This is a development server. Do not use it in a production deployment. Use a production WSGI server instead.\u001b[0m\n",
      " * Running on http://127.0.0.1:5000\n",
      "INFO:werkzeug:\u001b[33mPress CTRL+C to quit\u001b[0m\n",
      "DEBUG:urllib3.connectionpool:Starting new HTTPS connection (1): api.probe42.in:443\n",
      "DEBUG:urllib3.connectionpool:https://api.probe42.in:443 \"GET /probe_pro_sandbox/entities?limit=25&filters=%7B%22nameStartsWith%22%3A+%22SAKHI+INDUSTRIES+LIMITED%22%7D HTTP/1.1\" 200 2651\n",
      "INFO:werkzeug:127.0.0.1 - - [03/Jun/2024 14:49:42] \"POST /score_company HTTP/1.1\" 200 -\n",
      "DEBUG:urllib3.connectionpool:Starting new HTTPS connection (1): api.probe42.in:443\n",
      "DEBUG:urllib3.connectionpool:https://api.probe42.in:443 \"GET /probe_pro_sandbox/entities?limit=25&filters=%7B%22nameStartsWith%22%3A+%22SAKHI+INDUSTRIES+LIMITED%22%7D HTTP/1.1\" 200 2651\n",
      "INFO:werkzeug:127.0.0.1 - - [03/Jun/2024 14:56:32] \"POST /score_company HTTP/1.1\" 200 -\n",
      "DEBUG:urllib3.connectionpool:Starting new HTTPS connection (1): api.probe42.in:443\n",
      "DEBUG:urllib3.connectionpool:https://api.probe42.in:443 \"GET /probe_pro_sandbox/entities?limit=25&filters=%7B%22nameStartsWith%22%3A+%22HIGH+STAR+ALUMINIUM+%26+STEEL+PRIVATE+LIMITED%22%7D HTTP/1.1\" 200 2651\n",
      "INFO:werkzeug:127.0.0.1 - - [03/Jun/2024 15:09:12] \"POST /score_company HTTP/1.1\" 200 -\n",
      "DEBUG:urllib3.connectionpool:Starting new HTTPS connection (1): api.probe42.in:443\n",
      "DEBUG:urllib3.connectionpool:https://api.probe42.in:443 \"GET /probe_pro_sandbox/entities?limit=25&filters=%7B%22nameStartsWith%22%3A+%22SWASTIK+PACKAGING+PRIVATE+LIMITED%22%7D HTTP/1.1\" 200 2651\n",
      "INFO:werkzeug:127.0.0.1 - - [03/Jun/2024 15:09:30] \"POST /score_company HTTP/1.1\" 200 -\n"
     ]
    }
   ],
   "source": [
    "threading.Thread(target=run_app).start()"
   ]
  },
  {
   "cell_type": "code",
   "execution_count": null,
   "id": "b0a616f5",
   "metadata": {},
   "outputs": [],
   "source": []
  }
 ],
 "metadata": {
  "kernelspec": {
   "display_name": "Python 3 (ipykernel)",
   "language": "python",
   "name": "python3"
  },
  "language_info": {
   "codemirror_mode": {
    "name": "ipython",
    "version": 3
   },
   "file_extension": ".py",
   "mimetype": "text/x-python",
   "name": "python",
   "nbconvert_exporter": "python",
   "pygments_lexer": "ipython3",
   "version": "3.10.6"
  }
 },
 "nbformat": 4,
 "nbformat_minor": 5
}
