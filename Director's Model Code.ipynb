{
 "cells": [
  {
   "cell_type": "code",
   "execution_count": 1,
   "id": "f00e2226",
   "metadata": {},
   "outputs": [],
   "source": [
    "import pandas as pd"
   ]
  },
  {
   "cell_type": "code",
   "execution_count": 2,
   "id": "dcf2c1b2",
   "metadata": {},
   "outputs": [],
   "source": [
    "bse_nse_df = pd.read_excel('BSE_NSE_directors.xlsx')\n",
    "defaulters_df = pd.read_excel('Defaulters_directors.xlsx')\n",
    "second_degree_df = pd.read_excel('2nd Degree Directors&Companies.xlsx')\n",
    "politically_exposed_df = pd.read_excel('POLITICALLY EXPOSED PERSONS.xlsx')"
   ]
  },
  {
   "cell_type": "code",
   "execution_count": 3,
   "id": "5ac76f50",
   "metadata": {},
   "outputs": [],
   "source": [
    "bse_nse_directors = set()\n",
    "defaulters_directors = set()\n",
    "second_degree_defaulters = set()\n",
    "second_degree_relatives = set()\n",
    "politically_exposed_persons = set()\n",
    "politically_exposed_relatives = set()"
   ]
  },
  {
   "cell_type": "code",
   "execution_count": 4,
   "id": "6ca6faa1",
   "metadata": {},
   "outputs": [],
   "source": [
    "for col in bse_nse_df.columns[1:]:\n",
    "    bse_nse_directors.update(bse_nse_df[col].dropna().str.strip().str.lower())\n",
    "\n",
    "# Defaulters_directors\n",
    "for col in defaulters_df.columns[1:]:\n",
    "    defaulters_directors.update(defaulters_df[col].dropna().str.strip().str.lower())"
   ]
  },
  {
   "cell_type": "code",
   "execution_count": 5,
   "id": "107d5212",
   "metadata": {},
   "outputs": [],
   "source": [
    "second_degree_defaulters.update(second_degree_df.iloc[:, 0].dropna().str.strip().str.lower())\n",
    "second_degree_relatives.update(second_degree_df.iloc[:, 1:].stack().dropna().str.strip().str.lower())"
   ]
  },
  {
   "cell_type": "code",
   "execution_count": 6,
   "id": "ea28dfca",
   "metadata": {},
   "outputs": [],
   "source": [
    "politically_exposed_persons.update(politically_exposed_df.iloc[:, 0].dropna().str.strip().str.lower())\n",
    "politically_exposed_relatives.update(politically_exposed_df.iloc[:, 1:].stack().dropna().str.strip().str.lower())"
   ]
  },
  {
   "cell_type": "code",
   "execution_count": 7,
   "id": "a31d1536",
   "metadata": {},
   "outputs": [],
   "source": [
    "def score_director(name):\n",
    "    name = name.strip().lower()\n",
    "    score = 0\n",
    "    \n",
    "    if name in bse_nse_directors:\n",
    "        score += 10\n",
    "    if name in defaulters_directors:\n",
    "        score -= 10\n",
    "    if name in second_degree_relatives:\n",
    "        score -= 3\n",
    "    if name in second_degree_defaulters:\n",
    "        score -= 10\n",
    "    if name in politically_exposed_persons:\n",
    "        score -= 10\n",
    "    if name in politically_exposed_relatives:\n",
    "        score -= 10\n",
    "    \n",
    "    return score"
   ]
  },
  {
   "cell_type": "code",
   "execution_count": 11,
   "id": "300cb4a2",
   "metadata": {},
   "outputs": [
    {
     "name": "stdout",
     "output_type": "stream",
     "text": [
      "Score for MR.SANJAY BHATIA: -10\n"
     ]
    }
   ],
   "source": [
    "director_name = \"MR.SANJAY BHATIA\"\n",
    "score = score_director(director_name)\n",
    "print(f\"Score for {director_name}: {score}\")"
   ]
  },
  {
   "cell_type": "code",
   "execution_count": 12,
   "id": "c20f30f7",
   "metadata": {},
   "outputs": [],
   "source": [
    "def check_director_scores():\n",
    "    names = []\n",
    "    for i in range(10):\n",
    "        name = input(f\"Enter director name {i+1}: \")\n",
    "        names.append(name)\n",
    "    \n",
    "    for name in names:\n",
    "        score = score_director(name)\n",
    "        print(f\"Score for {name}: {score}\")"
   ]
  },
  {
   "cell_type": "code",
   "execution_count": 13,
   "id": "cfe18e8f",
   "metadata": {},
   "outputs": [
    {
     "name": "stdout",
     "output_type": "stream",
     "text": [
      "Enter director name 1: Ayushi Mishra\n",
      "Enter director name 2: Sharad Kumar Kedia\n",
      "Enter director name 3: Gagan Gupta\n",
      "Enter director name 4: Pappu Shaw\n",
      "Enter director name 5: Roshni Bakshi\n",
      "Enter director name 6: Malti Jagdishbhai Ajudia\n",
      "Enter director name 7: MR.AIHOLE DURYODHAN MAHALINGAPPA\n",
      "Enter director name 8: MR.BASANAGOUDA TURUVIHAL\n",
      "Enter director name 9: MR.DINESH GUNDURAO\n",
      "Enter director name 10: MR.JAGARNATH MAHTO\n",
      "Score for Ayushi Mishra: 10\n",
      "Score for Sharad Kumar Kedia: -13\n",
      "Score for Gagan Gupta: 10\n",
      "Score for Pappu Shaw: -13\n",
      "Score for Roshni Bakshi: 10\n",
      "Score for Malti Jagdishbhai Ajudia: 10\n",
      "Score for MR.AIHOLE DURYODHAN MAHALINGAPPA: -10\n",
      "Score for MR.BASANAGOUDA TURUVIHAL: -10\n",
      "Score for MR.DINESH GUNDURAO: -10\n",
      "Score for MR.JAGARNATH MAHTO: -10\n"
     ]
    }
   ],
   "source": [
    "check_director_scores()"
   ]
  },
  {
   "cell_type": "code",
   "execution_count": null,
   "id": "9d2e29cb",
   "metadata": {},
   "outputs": [],
   "source": []
  }
 ],
 "metadata": {
  "kernelspec": {
   "display_name": "Python 3 (ipykernel)",
   "language": "python",
   "name": "python3"
  },
  "language_info": {
   "codemirror_mode": {
    "name": "ipython",
    "version": 3
   },
   "file_extension": ".py",
   "mimetype": "text/x-python",
   "name": "python",
   "nbconvert_exporter": "python",
   "pygments_lexer": "ipython3",
   "version": "3.10.6"
  }
 },
 "nbformat": 4,
 "nbformat_minor": 5
}
